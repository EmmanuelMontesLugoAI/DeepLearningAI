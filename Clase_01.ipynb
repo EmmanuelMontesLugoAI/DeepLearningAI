{
  "nbformat": 4,
  "nbformat_minor": 0,
  "metadata": {
    "colab": {
      "provenance": [],
      "authorship_tag": "ABX9TyMkyLg/ptdN2WsCSkueF1jE",
      "include_colab_link": true
    },
    "kernelspec": {
      "name": "python3",
      "display_name": "Python 3"
    },
    "language_info": {
      "name": "python"
    }
  },
  "cells": [
    {
      "cell_type": "markdown",
      "metadata": {
        "id": "view-in-github",
        "colab_type": "text"
      },
      "source": [
        "<a href=\"https://colab.research.google.com/github/EmmanuelMontesLugoAI/DeepLearningAI/blob/main/Clase_01.ipynb\" target=\"_parent\"><img src=\"https://colab.research.google.com/assets/colab-badge.svg\" alt=\"Open In Colab\"/></a>"
      ]
    },
    {
      "cell_type": "markdown",
      "source": [
        "# Resumen de la Clase\n",
        "\n",
        "![Alt text](https://assets.technologynetworks.com/production/dynamic/images/content/397327/ai-is-redefining-the-role-of-the-scientist-heres-how-397327-1280x720.webp?cb=13260178)\n"
      ],
      "metadata": {
        "id": "_1YEEFqYyLdR"
      }
    },
    {
      "cell_type": "markdown",
      "source": [
        "## Temas revisados\n",
        "\n",
        "- ¿Qué es la Inteligencia Artificial?\n",
        "- Subconjuntos de la Inteligencia Artificial\n",
        "    - Machine Learning\n",
        "    - Deep Learning\n",
        "    - NLP (Natural Language Processing)\n",
        "- Uso de IA en sectores productivos\n",
        "- Ventajas de la automatización con IA\n"
      ],
      "metadata": {
        "id": "oQEUnLX_2jSz"
      }
    },
    {
      "cell_type": "markdown",
      "source": [
        "# Proyecto MVP\n",
        "\n",
        "# **Chatbot \"Tonalli\"**\n",
        "\n",
        "![Doc AI](https://webcdn.ringover.com/img/big/chatbot-medical-02-ebbd2.webp)\n"
      ],
      "metadata": {
        "id": "7YX6L6bQ2mPh"
      }
    },
    {
      "cell_type": "markdown",
      "source": [
        "## Objetivo\n",
        "\n",
        "Crear un chatbot que actue como un \"asistente virtual de salud comunitaria\" para el sector público, como en clínicas o portales gubernamentales, donde usuarios describen síntomas básicos (ej. fiebre, tos) y reciben orientaciones no diagnósticas, como sugerir visitar un médico o medidas preventivas contra enfermedades comunes en la región."
      ],
      "metadata": {
        "id": "aNwI8LpT244d"
      }
    },
    {
      "cell_type": "markdown",
      "source": [
        "## Tecnologías a utilizar"
      ],
      "metadata": {
        "id": "5AhIcvQy2ycC"
      }
    }
  ]
}